{
 "cells": [
  {
   "cell_type": "code",
   "execution_count": 4,
   "id": "cbc53bc4",
   "metadata": {},
   "outputs": [],
   "source": [
    "def bayes_theorem(p_a:float, p_b_a: float, p_b_n_a: float):\n",
    "    '''\n",
    "        Function to calculate the probability of an event A occurring knowing that event B has already occurred\n",
    "        Calculate P(A|B) given P(A), P(B|A), P(B|not A).\n",
    "        \n",
    "        :param p_a: P(A)\n",
    "        :param p_b_a: P(B|A)\n",
    "        :param p_b_n_a: P(B|not A)\n",
    "        :return:  probability of an event\n",
    "    \n",
    "    '''\n",
    "    not_a = 1- p_a\n",
    "    return p_b_a*p_a /(p_b_a*p_a + p_b_n_a*not_a)\n",
    "    \n",
    "    \n",
    "    "
   ]
  },
  {
   "cell_type": "code",
   "execution_count": 5,
   "id": "0aab1250",
   "metadata": {},
   "outputs": [
    {
     "name": "stdout",
     "output_type": "stream",
     "text": [
      "P(A|B) = 0.339%\n"
     ]
    }
   ],
   "source": [
    "p_a = 0.0002\n",
    "# P(B|A)\n",
    "p_b_a = 0.85\n",
    "# P(B|not A)\n",
    "p_b_n_a = 0.05\n",
    "# calculate P(A|B)\n",
    "result = bayes_theorem(p_a, p_b_a, p_b_n_a)\n",
    "# summarize\n",
    "print('P(A|B) = %.3f%%' % (result * 100))"
   ]
  },
  {
   "cell_type": "code",
   "execution_count": null,
   "id": "9224540b",
   "metadata": {},
   "outputs": [],
   "source": []
  }
 ],
 "metadata": {
  "kernelspec": {
   "display_name": "Python 3",
   "language": "python",
   "name": "python3"
  },
  "language_info": {
   "codemirror_mode": {
    "name": "ipython",
    "version": 3
   },
   "file_extension": ".py",
   "mimetype": "text/x-python",
   "name": "python",
   "nbconvert_exporter": "python",
   "pygments_lexer": "ipython3",
   "version": "3.6.9"
  }
 },
 "nbformat": 4,
 "nbformat_minor": 5
}
