{
 "cells": [
  {
   "cell_type": "code",
   "execution_count": 4,
   "id": "d58cf9f1",
   "metadata": {},
   "outputs": [],
   "source": [
    "from time import sleep\n",
    "from selenium import webdriver\n",
    "from bs4 import BeautifulSoup as bs\n",
    "\n",
    "\n",
    "class ReclameAqui:\n",
    "\n",
    "    base_url = \"https://www.reclameaqui.com.br/empresa/\"\n",
    "\n",
    "    def __init__(self, driver, empresa):\n",
    "        self.driver = driver\n",
    "        self.empresa = empresa\n",
    "\n",
    "    def extrair_informacoes(self, n_paginas):\n",
    "        url = self.base_url + self.empresa + \"/lista-reclamacoes/?pagina=\"\n",
    "        self.reclamacoes, self.titulos, self.links = [], [], []\n",
    "\n",
    "        for i in range(1, n_paginas + 1):\n",
    "            self.driver.get(url + str(i))\n",
    "            sleep(3)\n",
    "            html = bs(self.driver.page_source, \"html.parser\")\n",
    "\n",
    "            reclamacoes_html = html.find_all(\"p\", {\"class\": \"text-detail\"})\n",
    "            reclamacoes_na_pagina = [\n",
    "                reclamacao.text.split(\"|\") for reclamacao in reclamacoes_html\n",
    "            ]\n",
    "            self.reclamacoes.extend(reclamacoes_na_pagina)\n",
    "\n",
    "            titulos_e_links = html.find_all(\n",
    "                \"a\", {\"class\": \"link-complain-id-complains\"}\n",
    "            )\n",
    "            self.titulos.extend([titulo.text.strip() for titulo in titulos_e_links])\n",
    "            self.links.extend([link.get(\"href\") for link in titulos_e_links])\n",
    "\n",
    "    def extrair_descricoes(self):\n",
    "        urls = [self.base_url + link[1:] for link in self.links]\n",
    "        self.descricoes = []\n",
    "        for url in urls:\n",
    "            self.driver.get(url)\n",
    "            sleep(3)\n",
    "            html = bs(self.driver.page_source, \"html.parser\")\n",
    "            descricao = html.find(\"div\", {\"class\": \"complain-body\"}).text.strip()\n",
    "            self.descricoes.append(descricao)"
   ]
  },
  {
   "cell_type": "code",
   "execution_count": 8,
   "id": "8f668002",
   "metadata": {},
   "outputs": [
    {
     "ename": "AttributeError",
     "evalue": "'str' object has no attribute 'get'",
     "output_type": "error",
     "traceback": [
      "\u001b[0;31m---------------------------------------------------------------------------\u001b[0m",
      "\u001b[0;31mAttributeError\u001b[0m                            Traceback (most recent call last)",
      "\u001b[0;32m<ipython-input-8-9caa226ae53d>\u001b[0m in \u001b[0;36m<module>\u001b[0;34m\u001b[0m\n\u001b[1;32m      1\u001b[0m \u001b[0mr\u001b[0m \u001b[0;34m=\u001b[0m \u001b[0mReclameAqui\u001b[0m\u001b[0;34m(\u001b[0m\u001b[0;34mr\"C:\\Users\\cassi\\Desktop\\CASSIO\\04 - CURSOS\\MACHINE LEARNING - DATA SCIENCE\\MLCourse\\driver\\chromedriver.exe\"\u001b[0m\u001b[0;34m,\u001b[0m \u001b[0;34m'Fod'\u001b[0m\u001b[0;34m)\u001b[0m\u001b[0;34m\u001b[0m\u001b[0;34m\u001b[0m\u001b[0m\n\u001b[0;32m----> 2\u001b[0;31m \u001b[0mr\u001b[0m\u001b[0;34m.\u001b[0m\u001b[0mextrair_informacoes\u001b[0m\u001b[0;34m(\u001b[0m\u001b[0;36m20\u001b[0m\u001b[0;34m)\u001b[0m\u001b[0;34m\u001b[0m\u001b[0;34m\u001b[0m\u001b[0m\n\u001b[0m",
      "\u001b[0;32m<ipython-input-4-264542b566b3>\u001b[0m in \u001b[0;36mextrair_informacoes\u001b[0;34m(self, n_paginas)\u001b[0m\n\u001b[1;32m     17\u001b[0m \u001b[0;34m\u001b[0m\u001b[0m\n\u001b[1;32m     18\u001b[0m         \u001b[0;32mfor\u001b[0m \u001b[0mi\u001b[0m \u001b[0;32min\u001b[0m \u001b[0mrange\u001b[0m\u001b[0;34m(\u001b[0m\u001b[0;36m1\u001b[0m\u001b[0;34m,\u001b[0m \u001b[0mn_paginas\u001b[0m \u001b[0;34m+\u001b[0m \u001b[0;36m1\u001b[0m\u001b[0;34m)\u001b[0m\u001b[0;34m:\u001b[0m\u001b[0;34m\u001b[0m\u001b[0;34m\u001b[0m\u001b[0m\n\u001b[0;32m---> 19\u001b[0;31m             \u001b[0mself\u001b[0m\u001b[0;34m.\u001b[0m\u001b[0mdriver\u001b[0m\u001b[0;34m.\u001b[0m\u001b[0mget\u001b[0m\u001b[0;34m(\u001b[0m\u001b[0murl\u001b[0m \u001b[0;34m+\u001b[0m \u001b[0mstr\u001b[0m\u001b[0;34m(\u001b[0m\u001b[0mi\u001b[0m\u001b[0;34m)\u001b[0m\u001b[0;34m)\u001b[0m\u001b[0;34m\u001b[0m\u001b[0;34m\u001b[0m\u001b[0m\n\u001b[0m\u001b[1;32m     20\u001b[0m             \u001b[0msleep\u001b[0m\u001b[0;34m(\u001b[0m\u001b[0;36m3\u001b[0m\u001b[0;34m)\u001b[0m\u001b[0;34m\u001b[0m\u001b[0;34m\u001b[0m\u001b[0m\n\u001b[1;32m     21\u001b[0m             \u001b[0mhtml\u001b[0m \u001b[0;34m=\u001b[0m \u001b[0mbs\u001b[0m\u001b[0;34m(\u001b[0m\u001b[0mself\u001b[0m\u001b[0;34m.\u001b[0m\u001b[0mdriver\u001b[0m\u001b[0;34m.\u001b[0m\u001b[0mpage_source\u001b[0m\u001b[0;34m,\u001b[0m \u001b[0;34m\"html.parser\"\u001b[0m\u001b[0;34m)\u001b[0m\u001b[0;34m\u001b[0m\u001b[0;34m\u001b[0m\u001b[0m\n",
      "\u001b[0;31mAttributeError\u001b[0m: 'str' object has no attribute 'get'"
     ]
    }
   ],
   "source": [
    "r = ReclameAqui(r\"C:\\Users\\cassi\\Desktop\\CASSIO\\04 - CURSOS\\MACHINE LEARNING - DATA SCIENCE\\MLCourse\\driver\\chromedriver.exe\", 'Fod')\n",
    "r.extrair_informacoes(20)"
   ]
  },
  {
   "cell_type": "code",
   "execution_count": null,
   "id": "c36468a3",
   "metadata": {},
   "outputs": [],
   "source": []
  },
  {
   "cell_type": "code",
   "execution_count": 21,
   "id": "1c0b3479",
   "metadata": {},
   "outputs": [
    {
     "ename": "WebDriverException",
     "evalue": "Message: 'C:\\Users\\cassi\\Desktop\\CASSIO\\04 - CURSOS\\MACHINE LEARNING - DATA SCIENCE\\MLCourse\\driver\\chromedriver.exe' executable needs to be in PATH. Please see https://sites.google.com/a/chromium.org/chromedriver/home\n",
     "output_type": "error",
     "traceback": [
      "\u001b[0;31m---------------------------------------------------------------------------\u001b[0m",
      "\u001b[0;31mFileNotFoundError\u001b[0m                         Traceback (most recent call last)",
      "\u001b[0;32m/opt/venv/lib/python3.6/site-packages/selenium/webdriver/common/service.py\u001b[0m in \u001b[0;36mstart\u001b[0;34m(self)\u001b[0m\n\u001b[1;32m     75\u001b[0m                                             \u001b[0mstderr\u001b[0m\u001b[0;34m=\u001b[0m\u001b[0mself\u001b[0m\u001b[0;34m.\u001b[0m\u001b[0mlog_file\u001b[0m\u001b[0;34m,\u001b[0m\u001b[0;34m\u001b[0m\u001b[0;34m\u001b[0m\u001b[0m\n\u001b[0;32m---> 76\u001b[0;31m                                             stdin=PIPE)\n\u001b[0m\u001b[1;32m     77\u001b[0m         \u001b[0;32mexcept\u001b[0m \u001b[0mTypeError\u001b[0m\u001b[0;34m:\u001b[0m\u001b[0;34m\u001b[0m\u001b[0;34m\u001b[0m\u001b[0m\n",
      "\u001b[0;32m/usr/lib/python3.6/subprocess.py\u001b[0m in \u001b[0;36m__init__\u001b[0;34m(self, args, bufsize, executable, stdin, stdout, stderr, preexec_fn, close_fds, shell, cwd, env, universal_newlines, startupinfo, creationflags, restore_signals, start_new_session, pass_fds, encoding, errors)\u001b[0m\n\u001b[1;32m    728\u001b[0m                                 \u001b[0merrread\u001b[0m\u001b[0;34m,\u001b[0m \u001b[0merrwrite\u001b[0m\u001b[0;34m,\u001b[0m\u001b[0;34m\u001b[0m\u001b[0;34m\u001b[0m\u001b[0m\n\u001b[0;32m--> 729\u001b[0;31m                                 restore_signals, start_new_session)\n\u001b[0m\u001b[1;32m    730\u001b[0m         \u001b[0;32mexcept\u001b[0m\u001b[0;34m:\u001b[0m\u001b[0;34m\u001b[0m\u001b[0;34m\u001b[0m\u001b[0m\n",
      "\u001b[0;32m/usr/lib/python3.6/subprocess.py\u001b[0m in \u001b[0;36m_execute_child\u001b[0;34m(self, args, executable, preexec_fn, close_fds, pass_fds, cwd, env, startupinfo, creationflags, shell, p2cread, p2cwrite, c2pread, c2pwrite, errread, errwrite, restore_signals, start_new_session)\u001b[0m\n\u001b[1;32m   1363\u001b[0m                             \u001b[0merr_msg\u001b[0m \u001b[0;34m+=\u001b[0m \u001b[0;34m': '\u001b[0m \u001b[0;34m+\u001b[0m \u001b[0mrepr\u001b[0m\u001b[0;34m(\u001b[0m\u001b[0merr_filename\u001b[0m\u001b[0;34m)\u001b[0m\u001b[0;34m\u001b[0m\u001b[0;34m\u001b[0m\u001b[0m\n\u001b[0;32m-> 1364\u001b[0;31m                     \u001b[0;32mraise\u001b[0m \u001b[0mchild_exception_type\u001b[0m\u001b[0;34m(\u001b[0m\u001b[0merrno_num\u001b[0m\u001b[0;34m,\u001b[0m \u001b[0merr_msg\u001b[0m\u001b[0;34m,\u001b[0m \u001b[0merr_filename\u001b[0m\u001b[0;34m)\u001b[0m\u001b[0;34m\u001b[0m\u001b[0;34m\u001b[0m\u001b[0m\n\u001b[0m\u001b[1;32m   1365\u001b[0m                 \u001b[0;32mraise\u001b[0m \u001b[0mchild_exception_type\u001b[0m\u001b[0;34m(\u001b[0m\u001b[0merr_msg\u001b[0m\u001b[0;34m)\u001b[0m\u001b[0;34m\u001b[0m\u001b[0;34m\u001b[0m\u001b[0m\n",
      "\u001b[0;31mFileNotFoundError\u001b[0m: [Errno 2] No such file or directory: 'C:\\\\Users\\\\cassi\\\\Desktop\\\\CASSIO\\\\04 - CURSOS\\\\MACHINE LEARNING - DATA SCIENCE\\\\MLCourse\\\\driver\\\\chromedriver.exe': 'C:\\\\Users\\\\cassi\\\\Desktop\\\\CASSIO\\\\04 - CURSOS\\\\MACHINE LEARNING - DATA SCIENCE\\\\MLCourse\\\\driver\\\\chromedriver.exe'",
      "\nDuring handling of the above exception, another exception occurred:\n",
      "\u001b[0;31mWebDriverException\u001b[0m                        Traceback (most recent call last)",
      "\u001b[0;32m<ipython-input-21-d0f8bd1f4c96>\u001b[0m in \u001b[0;36m<module>\u001b[0;34m\u001b[0m\n\u001b[0;32m----> 1\u001b[0;31m \u001b[0mdriver\u001b[0m \u001b[0;34m=\u001b[0m \u001b[0mwebdriver\u001b[0m\u001b[0;34m.\u001b[0m\u001b[0mChrome\u001b[0m\u001b[0;34m(\u001b[0m\u001b[0;34mr\"C:\\Users\\cassi\\Desktop\\CASSIO\\04 - CURSOS\\MACHINE LEARNING - DATA SCIENCE\\MLCourse\\driver\\chromedriver.exe\"\u001b[0m\u001b[0;34m)\u001b[0m\u001b[0;34m\u001b[0m\u001b[0;34m\u001b[0m\u001b[0m\n\u001b[0m\u001b[1;32m      2\u001b[0m \u001b[0mwebPageSource\u001b[0m \u001b[0;34m=\u001b[0m \u001b[0mdriver\u001b[0m\u001b[0;34m.\u001b[0m\u001b[0mpage_source\u001b[0m\u001b[0;34m\u001b[0m\u001b[0;34m\u001b[0m\u001b[0m\n\u001b[1;32m      3\u001b[0m \u001b[0;34m\u001b[0m\u001b[0m\n\u001b[1;32m      4\u001b[0m \u001b[0msoup\u001b[0m \u001b[0;34m=\u001b[0m \u001b[0mBeautifulSoup\u001b[0m\u001b[0;34m(\u001b[0m\u001b[0mwebPageSource\u001b[0m\u001b[0;34m,\u001b[0m \u001b[0;34m\"html.parser\"\u001b[0m\u001b[0;34m)\u001b[0m\u001b[0;34m\u001b[0m\u001b[0;34m\u001b[0m\u001b[0m\n\u001b[1;32m      5\u001b[0m \u001b[0;34m\u001b[0m\u001b[0m\n",
      "\u001b[0;32m/opt/venv/lib/python3.6/site-packages/selenium/webdriver/chrome/webdriver.py\u001b[0m in \u001b[0;36m__init__\u001b[0;34m(self, executable_path, port, options, service_args, desired_capabilities, service_log_path, chrome_options, keep_alive)\u001b[0m\n\u001b[1;32m     71\u001b[0m             \u001b[0mservice_args\u001b[0m\u001b[0;34m=\u001b[0m\u001b[0mservice_args\u001b[0m\u001b[0;34m,\u001b[0m\u001b[0;34m\u001b[0m\u001b[0;34m\u001b[0m\u001b[0m\n\u001b[1;32m     72\u001b[0m             log_path=service_log_path)\n\u001b[0;32m---> 73\u001b[0;31m         \u001b[0mself\u001b[0m\u001b[0;34m.\u001b[0m\u001b[0mservice\u001b[0m\u001b[0;34m.\u001b[0m\u001b[0mstart\u001b[0m\u001b[0;34m(\u001b[0m\u001b[0;34m)\u001b[0m\u001b[0;34m\u001b[0m\u001b[0;34m\u001b[0m\u001b[0m\n\u001b[0m\u001b[1;32m     74\u001b[0m \u001b[0;34m\u001b[0m\u001b[0m\n\u001b[1;32m     75\u001b[0m         \u001b[0;32mtry\u001b[0m\u001b[0;34m:\u001b[0m\u001b[0;34m\u001b[0m\u001b[0;34m\u001b[0m\u001b[0m\n",
      "\u001b[0;32m/opt/venv/lib/python3.6/site-packages/selenium/webdriver/common/service.py\u001b[0m in \u001b[0;36mstart\u001b[0;34m(self)\u001b[0m\n\u001b[1;32m     81\u001b[0m                 raise WebDriverException(\n\u001b[1;32m     82\u001b[0m                     \"'%s' executable needs to be in PATH. %s\" % (\n\u001b[0;32m---> 83\u001b[0;31m                         os.path.basename(self.path), self.start_error_message)\n\u001b[0m\u001b[1;32m     84\u001b[0m                 )\n\u001b[1;32m     85\u001b[0m             \u001b[0;32melif\u001b[0m \u001b[0merr\u001b[0m\u001b[0;34m.\u001b[0m\u001b[0merrno\u001b[0m \u001b[0;34m==\u001b[0m \u001b[0merrno\u001b[0m\u001b[0;34m.\u001b[0m\u001b[0mEACCES\u001b[0m\u001b[0;34m:\u001b[0m\u001b[0;34m\u001b[0m\u001b[0;34m\u001b[0m\u001b[0m\n",
      "\u001b[0;31mWebDriverException\u001b[0m: Message: 'C:\\Users\\cassi\\Desktop\\CASSIO\\04 - CURSOS\\MACHINE LEARNING - DATA SCIENCE\\MLCourse\\driver\\chromedriver.exe' executable needs to be in PATH. Please see https://sites.google.com/a/chromium.org/chromedriver/home\n"
     ]
    }
   ],
   "source": [
    "driver = webdriver.Chrome(r\"C:\\Users\\cassi\\Desktop\\CASSIO\\04 - CURSOS\\MACHINE LEARNING - DATA SCIENCE\\MLCourse\\driver\\chromedriver.exe\")\n",
    "webPageSource = driver.page_source\n",
    "\n",
    "soup = BeautifulSoup(webPageSource, \"html.parser\")\n",
    "\n",
    "links_ = soup.findAll('a',{'class':'link-complain-id-complains label-not-answered'})\n",
    "\n",
    "for i in range(0,len(links_)):\n",
    "\n",
    "     print(links_[i]['href'])"
   ]
  },
  {
   "cell_type": "code",
   "execution_count": 17,
   "id": "d8b660b7",
   "metadata": {},
   "outputs": [
    {
     "data": {
      "text/plain": [
       "<html><head>\n",
       "<title>Access Denied</title>\n",
       "</head><body>\n",
       "<h1>Access Denied</h1>\n",
       " \n",
       "You don't have permission to access \"http://www.reclameaqui.com.br/empresa/ford/lista-reclamacoes/\" on this server.<p>\n",
       "Reference #18.263f2dc9.1637781450.38076bd\n",
       "</p></body>\n",
       "</html>"
      ]
     },
     "execution_count": 17,
     "metadata": {},
     "output_type": "execute_result"
    }
   ],
   "source": [
    "soup"
   ]
  },
  {
   "cell_type": "code",
   "execution_count": 10,
   "id": "d03ad8ac",
   "metadata": {},
   "outputs": [],
   "source": [
    "# Pegar todo o texto da div BodyText\n",
    "artist_name_list = soup.find(class_='BodyText')\n",
    "\n",
    "# Pegar o texto de todas as instâncias da tag <a> dentro da div BodyText\n",
    "artist_name_list_items = artist_name_list.find_all('a')"
   ]
  },
  {
   "cell_type": "code",
   "execution_count": 13,
   "id": "ff43ed8f",
   "metadata": {},
   "outputs": [
    {
     "name": "stdout",
     "output_type": "stream",
     "text": [
      "Zabaglia, Niccola\n",
      "Zaccone, Fabian\n",
      "Zadkine, Ossip\n",
      "Zaech, Bernhard\n",
      "Zagar, Jacob\n",
      "Zagroba, Idalia\n",
      "Zaidenberg, A.\n",
      "Zaidenberg, Arthur\n",
      "Zaisinger, Matthäus\n",
      "Zajac, Jack\n",
      "Zak, Eugène\n",
      "Zakharov, Gurii Fillipovich\n",
      "Zakowortny, Igor\n",
      "Zalce, Alfredo\n",
      "Zalopany, Michele\n",
      "Zammiello, Craig\n",
      "Zammitt, Norman\n",
      "Zampieri, Domenico\n",
      "Zampieri, called Domenichino, Domenico\n",
      "Zanartú, Enrique Antunez\n",
      "Zanchi, Antonio\n",
      "Zanetti, Anton Maria\n",
      "Zanetti Borzino, Leopoldina\n",
      "Zanetti I, Antonio Maria, conte\n",
      "Zanguidi, Jacopo\n",
      "Zanini, Giuseppe\n",
      "Zanini-Viola, Giuseppe\n",
      "Zanotti, Giampietro\n",
      "Zao Wou-Ki\n",
      "Zas-Zie\n",
      "Zie-Zor\n",
      "<strong>next<br/>page</strong>\n"
     ]
    }
   ],
   "source": [
    "for artist_name in artist_name_list_items:\n",
    "    names = artist_name.contents[0]\n",
    "    print(names)"
   ]
  }
 ],
 "metadata": {
  "kernelspec": {
   "display_name": "Python 3",
   "language": "python",
   "name": "python3"
  },
  "language_info": {
   "codemirror_mode": {
    "name": "ipython",
    "version": 3
   },
   "file_extension": ".py",
   "mimetype": "text/x-python",
   "name": "python",
   "nbconvert_exporter": "python",
   "pygments_lexer": "ipython3",
   "version": "3.6.9"
  }
 },
 "nbformat": 4,
 "nbformat_minor": 5
}
