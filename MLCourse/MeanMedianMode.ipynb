{
 "cells": [
  {
   "cell_type": "markdown",
   "metadata": {},
   "source": [
    "# Mean, Median, Mode, and introducing NumPy"
   ]
  },
  {
   "cell_type": "markdown",
   "metadata": {},
   "source": [
    "## Mean vs. Median"
   ]
  },
  {
   "cell_type": "markdown",
   "metadata": {},
   "source": [
    "Let's create some fake income data, centered around 27,000 with a normal distribution and standard deviation of 15,000, with 10,000 data points. (We'll discuss those terms more later, if you're not familiar with them.)\n",
    "\n",
    "Then, compute the mean (average) - it should be close to 27,000:"
   ]
  },
  {
   "cell_type": "code",
   "execution_count": 1,
   "metadata": {},
   "outputs": [
    {
     "data": {
      "text/plain": [
       "26971.75910607565"
      ]
     },
     "execution_count": 1,
     "metadata": {},
     "output_type": "execute_result"
    }
   ],
   "source": [
    "import numpy as np\n",
    "\n",
    "incomes = np.random.normal(27000, 15000, 10000)\n",
    "np.mean(incomes)"
   ]
  },
  {
   "cell_type": "markdown",
   "metadata": {},
   "source": [
    "We can segment the income data into 50 buckets, and plot it as a histogram:"
   ]
  },
  {
   "cell_type": "code",
   "execution_count": 17,
   "metadata": {},
   "outputs": [
    {
     "data": {
      "image/png": "[encoded data removed]",
      "text/plain": [
       "<Figure size 432x288 with 1 Axes>"
      ]
     },
     "metadata": {
      "needs_background": "light"
     },
     "output_type": "display_data"
    }
   ],
   "source": [
    "%matplotlib inline\n",
    "import matplotlib.pyplot as plt\n",
    "plt.hist(incomes, 50)\n",
    "plt.show()"
   ]
  },
  {
   "cell_type": "markdown",
   "metadata": {},
   "source": [
    "Now compute the median - since we have a nice, even distribution it too should be close to 27,000:"
   ]
  },
  {
   "cell_type": "code",
   "execution_count": 3,
   "metadata": {},
   "outputs": [
    {
     "data": {
      "text/plain": [
       "26968.449228219615"
      ]
     },
     "execution_count": 3,
     "metadata": {},
     "output_type": "execute_result"
    }
   ],
   "source": [
    "np.median(incomes)"
   ]
  },
  {
   "cell_type": "markdown",
   "metadata": {},
   "source": [
    "Now we'll add Jeff Bezos into the mix. Darn income inequality!"
   ]
  },
  {
   "cell_type": "code",
   "execution_count": 4,
   "metadata": {},
   "outputs": [],
   "source": [
    "incomes = np.append(incomes, [1000000000])"
   ]
  },
  {
   "cell_type": "markdown",
   "metadata": {},
   "source": [
    "The median won't change much, but the mean does:"
   ]
  },
  {
   "cell_type": "code",
   "execution_count": 5,
   "metadata": {},
   "outputs": [
    {
     "data": {
      "text/plain": [
       "26970.31521740445"
      ]
     },
     "execution_count": 5,
     "metadata": {},
     "output_type": "execute_result"
    }
   ],
   "source": [
    "np.median(incomes)"
   ]
  },
  {
   "cell_type": "code",
   "execution_count": 6,
   "metadata": {},
   "outputs": [
    {
     "data": {
      "text/plain": [
       "126959.06319975566"
      ]
     },
     "execution_count": 6,
     "metadata": {},
     "output_type": "execute_result"
    }
   ],
   "source": [
    "np.mean(incomes)"
   ]
  },
  {
   "cell_type": "markdown",
   "metadata": {},
   "source": [
    "## Mode"
   ]
  },
  {
   "cell_type": "markdown",
   "metadata": {},
   "source": [
    "Next, let's generate some fake age data for 500 people:"
   ]
  },
  {
   "cell_type": "code",
   "execution_count": 7,
   "metadata": {},
   "outputs": [
    {
     "data": {
      "text/plain": [
       "array([80, 71, 65, 60, 42, 23, 72, 42, 32, 61, 63, 19, 71, 50, 82, 62, 58,\n",
       "       75, 42, 19, 84, 43, 71, 61, 88, 29, 65, 82, 37, 80, 43, 55, 87, 58,\n",
       "       56, 76, 81, 20, 26, 70, 19, 20, 89, 81, 39, 73, 21, 35, 55, 51, 48,\n",
       "       57, 47, 74, 66, 27, 72, 84, 22, 22, 78, 73, 46, 88, 19, 40, 53, 57,\n",
       "       68, 39, 60, 40, 22, 55, 40, 81, 24, 34, 67, 48, 24, 86, 22, 35, 37,\n",
       "       26, 59, 57, 32, 38, 77, 54, 57, 52, 49, 44, 46, 31, 42, 43, 86, 55,\n",
       "       23, 81, 40, 82, 72, 53, 46, 59, 62, 73, 54, 35, 75, 47, 35, 25, 25,\n",
       "       71, 37, 41, 54, 20, 59, 53, 35, 41, 73, 60, 59, 35, 27, 84, 48, 69,\n",
       "       62, 33, 25, 68, 71, 89, 41, 39, 84, 66, 68, 26, 78, 38, 79, 67, 44,\n",
       "       43, 39, 23, 85, 41, 59, 26, 87, 43, 59, 66, 73, 21, 51, 35, 33, 76,\n",
       "       32, 18, 67, 65, 65, 51, 27, 70, 76, 65, 47, 19, 59, 20, 62, 38, 63,\n",
       "       76, 33, 51, 70, 89, 57, 55, 40, 52, 56, 41, 69, 50, 47, 33, 71, 27,\n",
       "       84, 60, 83, 70, 62, 70, 32, 84, 38, 59, 86, 81, 71, 75, 52, 77, 47,\n",
       "       31, 32, 34, 76, 85, 26, 40, 24, 47, 23, 71, 48, 48, 43, 73, 41, 78,\n",
       "       24, 53, 62, 59, 77, 31, 18, 78, 82, 70, 74, 80, 54, 86, 45, 65, 59,\n",
       "       84, 47, 41, 83, 25, 22, 87, 57, 19, 34, 32, 89, 79, 41, 52, 41, 78,\n",
       "       69, 82, 44, 84, 76, 87, 33, 61, 22, 39, 32, 78, 48, 59, 30, 28, 22,\n",
       "       31, 34, 84, 79, 29, 21, 59, 62, 69, 34, 80, 46, 81, 72, 26, 54, 43,\n",
       "       42, 60, 74, 88, 37, 79, 74, 67, 18, 71, 83, 73, 37, 33, 47, 45, 81,\n",
       "       54, 45, 43, 80, 27, 86, 32, 79, 22, 28, 70, 58, 22, 72, 47, 64, 77,\n",
       "       38, 22, 74, 89, 58, 64, 89, 41, 23, 87, 18, 51, 88, 40, 62, 34, 83,\n",
       "       42, 30, 55, 72, 18, 60, 89, 39, 65, 49, 24, 28, 45, 29, 59, 57, 39,\n",
       "       52, 23, 37, 80, 81, 47, 75, 39, 54, 87, 28, 29, 59, 45, 89, 67, 68,\n",
       "       65, 76, 64, 55, 49, 50, 21, 37, 61, 28, 82, 36, 50, 22, 50, 19, 22,\n",
       "       54, 66, 73, 43, 50, 27, 82, 48, 77, 23, 62, 39, 35, 73, 48, 30, 46,\n",
       "       39, 82, 67, 52, 87, 52, 50, 25, 38, 71, 23, 42, 75, 76, 69, 79, 78,\n",
       "       44, 28, 35, 75, 42, 63, 87, 66, 72, 40, 75, 46, 30, 48, 57, 54, 74,\n",
       "       68, 72, 79, 88, 88, 54, 21, 80, 64, 74, 62, 46, 48, 69, 71, 78, 27,\n",
       "       29, 50, 48, 88, 47, 59, 62, 42, 79, 88, 56, 30, 55, 47, 54, 42, 31,\n",
       "       18, 89, 83, 50, 59, 70, 77])"
      ]
     },
     "execution_count": 7,
     "metadata": {},
     "output_type": "execute_result"
    }
   ],
   "source": [
    "ages = np.random.randint(18, high=90, size=500)\n",
    "ages"
   ]
  },
  {
   "cell_type": "code",
   "execution_count": 16,
   "metadata": {},
   "outputs": [
    {
     "data": {
      "text/plain": [
       "ModeResult(mode=array([59]), count=array([16]))"
      ]
     },
     "execution_count": 16,
     "metadata": {},
     "output_type": "execute_result"
    }
   ],
   "source": [
    "from scipy import stats\n",
    "stats.mode(ages)"
   ]
  },
  {
   "cell_type": "code",
   "execution_count": 18,
   "metadata": {},
   "outputs": [
    {
     "data": {
      "text/plain": [
       "99974842511564.1"
      ]
     },
     "execution_count": 18,
     "metadata": {},
     "output_type": "execute_result"
    }
   ],
   "source": [
    "np.var(incomes)"
   ]
  },
  {
   "cell_type": "code",
   "execution_count": 19,
   "metadata": {},
   "outputs": [
    {
     "data": {
      "text/plain": [
       "9998742.046455849"
      ]
     },
     "execution_count": 19,
     "metadata": {},
     "output_type": "execute_result"
    }
   ],
   "source": [
    "np.std(incomes)"
   ]
  }
 ],
 "metadata": {
  "kernelspec": {
   "display_name": "Python 3",
   "language": "python",
   "name": "python3"
  },
  "language_info": {
   "codemirror_mode": {
    "name": "ipython",
    "version": 3
   },
   "file_extension": ".py",
   "mimetype": "text/x-python",
   "name": "python",
   "nbconvert_exporter": "python",
   "pygments_lexer": "ipython3",
   "version": "3.6.9"
  }
 },
 "nbformat": 4,
 "nbformat_minor": 1
}
